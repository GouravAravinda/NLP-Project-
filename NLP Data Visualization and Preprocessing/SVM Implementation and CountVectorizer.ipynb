{
 "cells": [
  {
   "cell_type": "markdown",
   "id": "60f0876f",
   "metadata": {
    "papermill": {
     "duration": 0.015769,
     "end_time": "2022-01-03T22:11:23.528937",
     "exception": false,
     "start_time": "2022-01-03T22:11:23.513168",
     "status": "completed"
    },
    "tags": []
   },
   "source": [
    "# Importing modules"
   ]
  },
  {
   "cell_type": "code",
   "execution_count": 2,
   "id": "0a597591",
   "metadata": {
    "execution": {
     "iopub.execute_input": "2022-01-03T22:11:23.567198Z",
     "iopub.status.busy": "2022-01-03T22:11:23.566481Z",
     "iopub.status.idle": "2022-01-03T22:11:25.280529Z",
     "shell.execute_reply": "2022-01-03T22:11:25.279892Z",
     "shell.execute_reply.started": "2022-01-03T22:01:44.555415Z"
    },
    "papermill": {
     "duration": 1.735745,
     "end_time": "2022-01-03T22:11:25.280672",
     "exception": false,
     "start_time": "2022-01-03T22:11:23.544927",
     "status": "completed"
    },
    "tags": []
   },
   "outputs": [],
   "source": [
    "from sklearn.svm import SVC\n",
    "import nltk\n",
    "from nltk.corpus import stopwords\n",
    "import numpy as np\n",
    "from sklearn.feature_extraction.text import CountVectorizer\n",
    "from sklearn.feature_extraction.text import TfidfTransformer\n",
    "from sklearn.model_selection import train_test_split\n",
    "import pandas as pd\n",
    "import string\n",
    "import seaborn as sns"
   ]
  },
  {
   "cell_type": "markdown",
   "id": "997f12d4",
   "metadata": {
    "papermill": {
     "duration": 0.016061,
     "end_time": "2022-01-03T22:11:25.313156",
     "exception": false,
     "start_time": "2022-01-03T22:11:25.297095",
     "status": "completed"
    },
    "tags": []
   },
   "source": [
    "# Reading dataset"
   ]
  },
  {
   "cell_type": "code",
   "execution_count": 3,
   "id": "b784051b",
   "metadata": {
    "execution": {
     "iopub.execute_input": "2022-01-03T22:11:25.351961Z",
     "iopub.status.busy": "2022-01-03T22:11:25.351143Z",
     "iopub.status.idle": "2022-01-03T22:11:25.385916Z",
     "shell.execute_reply": "2022-01-03T22:11:25.386475Z",
     "shell.execute_reply.started": "2022-01-03T22:01:44.917211Z"
    },
    "papermill": {
     "duration": 0.056875,
     "end_time": "2022-01-03T22:11:25.386667",
     "exception": false,
     "start_time": "2022-01-03T22:11:25.329792",
     "status": "completed"
    },
    "tags": []
   },
   "outputs": [],
   "source": [
    "df = pd.read_csv('spam.csv', encoding = 'ISO-8859-1')\n"
   ]
  },
  {
   "cell_type": "code",
   "execution_count": 4,
   "id": "7297f93b",
   "metadata": {
    "execution": {
     "iopub.execute_input": "2022-01-03T22:11:25.423520Z",
     "iopub.status.busy": "2022-01-03T22:11:25.422444Z",
     "iopub.status.idle": "2022-01-03T22:11:25.444363Z",
     "shell.execute_reply": "2022-01-03T22:11:25.444875Z",
     "shell.execute_reply.started": "2022-01-03T22:01:45.101207Z"
    },
    "papermill": {
     "duration": 0.04193,
     "end_time": "2022-01-03T22:11:25.445048",
     "exception": false,
     "start_time": "2022-01-03T22:11:25.403118",
     "status": "completed"
    },
    "tags": []
   },
   "outputs": [
    {
     "data": {
      "text/html": [
       "<div>\n",
       "<style scoped>\n",
       "    .dataframe tbody tr th:only-of-type {\n",
       "        vertical-align: middle;\n",
       "    }\n",
       "\n",
       "    .dataframe tbody tr th {\n",
       "        vertical-align: top;\n",
       "    }\n",
       "\n",
       "    .dataframe thead th {\n",
       "        text-align: right;\n",
       "    }\n",
       "</style>\n",
       "<table border=\"1\" class=\"dataframe\">\n",
       "  <thead>\n",
       "    <tr style=\"text-align: right;\">\n",
       "      <th></th>\n",
       "      <th>v1</th>\n",
       "      <th>v2</th>\n",
       "      <th>Unnamed: 2</th>\n",
       "      <th>Unnamed: 3</th>\n",
       "      <th>Unnamed: 4</th>\n",
       "    </tr>\n",
       "  </thead>\n",
       "  <tbody>\n",
       "    <tr>\n",
       "      <th>0</th>\n",
       "      <td>ham</td>\n",
       "      <td>Go until jurong point, crazy.. Available only ...</td>\n",
       "      <td>NaN</td>\n",
       "      <td>NaN</td>\n",
       "      <td>NaN</td>\n",
       "    </tr>\n",
       "    <tr>\n",
       "      <th>1</th>\n",
       "      <td>ham</td>\n",
       "      <td>Ok lar... Joking wif u oni...</td>\n",
       "      <td>NaN</td>\n",
       "      <td>NaN</td>\n",
       "      <td>NaN</td>\n",
       "    </tr>\n",
       "    <tr>\n",
       "      <th>2</th>\n",
       "      <td>spam</td>\n",
       "      <td>Free entry in 2 a wkly comp to win FA Cup fina...</td>\n",
       "      <td>NaN</td>\n",
       "      <td>NaN</td>\n",
       "      <td>NaN</td>\n",
       "    </tr>\n",
       "    <tr>\n",
       "      <th>3</th>\n",
       "      <td>ham</td>\n",
       "      <td>U dun say so early hor... U c already then say...</td>\n",
       "      <td>NaN</td>\n",
       "      <td>NaN</td>\n",
       "      <td>NaN</td>\n",
       "    </tr>\n",
       "    <tr>\n",
       "      <th>4</th>\n",
       "      <td>ham</td>\n",
       "      <td>Nah I don't think he goes to usf, he lives aro...</td>\n",
       "      <td>NaN</td>\n",
       "      <td>NaN</td>\n",
       "      <td>NaN</td>\n",
       "    </tr>\n",
       "    <tr>\n",
       "      <th>...</th>\n",
       "      <td>...</td>\n",
       "      <td>...</td>\n",
       "      <td>...</td>\n",
       "      <td>...</td>\n",
       "      <td>...</td>\n",
       "    </tr>\n",
       "    <tr>\n",
       "      <th>5567</th>\n",
       "      <td>spam</td>\n",
       "      <td>This is the 2nd time we have tried 2 contact u...</td>\n",
       "      <td>NaN</td>\n",
       "      <td>NaN</td>\n",
       "      <td>NaN</td>\n",
       "    </tr>\n",
       "    <tr>\n",
       "      <th>5568</th>\n",
       "      <td>ham</td>\n",
       "      <td>Will Ì_ b going to esplanade fr home?</td>\n",
       "      <td>NaN</td>\n",
       "      <td>NaN</td>\n",
       "      <td>NaN</td>\n",
       "    </tr>\n",
       "    <tr>\n",
       "      <th>5569</th>\n",
       "      <td>ham</td>\n",
       "      <td>Pity, * was in mood for that. So...any other s...</td>\n",
       "      <td>NaN</td>\n",
       "      <td>NaN</td>\n",
       "      <td>NaN</td>\n",
       "    </tr>\n",
       "    <tr>\n",
       "      <th>5570</th>\n",
       "      <td>ham</td>\n",
       "      <td>The guy did some bitching but I acted like i'd...</td>\n",
       "      <td>NaN</td>\n",
       "      <td>NaN</td>\n",
       "      <td>NaN</td>\n",
       "    </tr>\n",
       "    <tr>\n",
       "      <th>5571</th>\n",
       "      <td>ham</td>\n",
       "      <td>Rofl. Its true to its name</td>\n",
       "      <td>NaN</td>\n",
       "      <td>NaN</td>\n",
       "      <td>NaN</td>\n",
       "    </tr>\n",
       "  </tbody>\n",
       "</table>\n",
       "<p>5572 rows × 5 columns</p>\n",
       "</div>"
      ],
      "text/plain": [
       "        v1                                                 v2 Unnamed: 2  \\\n",
       "0      ham  Go until jurong point, crazy.. Available only ...        NaN   \n",
       "1      ham                      Ok lar... Joking wif u oni...        NaN   \n",
       "2     spam  Free entry in 2 a wkly comp to win FA Cup fina...        NaN   \n",
       "3      ham  U dun say so early hor... U c already then say...        NaN   \n",
       "4      ham  Nah I don't think he goes to usf, he lives aro...        NaN   \n",
       "...    ...                                                ...        ...   \n",
       "5567  spam  This is the 2nd time we have tried 2 contact u...        NaN   \n",
       "5568   ham              Will Ì_ b going to esplanade fr home?        NaN   \n",
       "5569   ham  Pity, * was in mood for that. So...any other s...        NaN   \n",
       "5570   ham  The guy did some bitching but I acted like i'd...        NaN   \n",
       "5571   ham                         Rofl. Its true to its name        NaN   \n",
       "\n",
       "     Unnamed: 3 Unnamed: 4  \n",
       "0           NaN        NaN  \n",
       "1           NaN        NaN  \n",
       "2           NaN        NaN  \n",
       "3           NaN        NaN  \n",
       "4           NaN        NaN  \n",
       "...         ...        ...  \n",
       "5567        NaN        NaN  \n",
       "5568        NaN        NaN  \n",
       "5569        NaN        NaN  \n",
       "5570        NaN        NaN  \n",
       "5571        NaN        NaN  \n",
       "\n",
       "[5572 rows x 5 columns]"
      ]
     },
     "execution_count": 4,
     "metadata": {},
     "output_type": "execute_result"
    }
   ],
   "source": [
    "df"
   ]
  },
  {
   "cell_type": "markdown",
   "id": "5fa93a10",
   "metadata": {
    "execution": {
     "iopub.execute_input": "2022-01-03T21:51:13.424565Z",
     "iopub.status.busy": "2022-01-03T21:51:13.424289Z",
     "iopub.status.idle": "2022-01-03T21:51:13.428951Z",
     "shell.execute_reply": "2022-01-03T21:51:13.428071Z",
     "shell.execute_reply.started": "2022-01-03T21:51:13.424526Z"
    },
    "papermill": {
     "duration": 0.016262,
     "end_time": "2022-01-03T22:11:25.477827",
     "exception": false,
     "start_time": "2022-01-03T22:11:25.461565",
     "status": "completed"
    },
    "tags": []
   },
   "source": [
    "# Removing unwanted columns"
   ]
  },
  {
   "cell_type": "code",
   "execution_count": 5,
   "id": "ea51778f",
   "metadata": {
    "execution": {
     "iopub.execute_input": "2022-01-03T22:11:25.521343Z",
     "iopub.status.busy": "2022-01-03T22:11:25.520356Z",
     "iopub.status.idle": "2022-01-03T22:11:25.530763Z",
     "shell.execute_reply": "2022-01-03T22:11:25.531204Z",
     "shell.execute_reply.started": "2022-01-03T22:01:45.495259Z"
    },
    "papermill": {
     "duration": 0.037063,
     "end_time": "2022-01-03T22:11:25.531373",
     "exception": false,
     "start_time": "2022-01-03T22:11:25.494310",
     "status": "completed"
    },
    "tags": []
   },
   "outputs": [
    {
     "data": {
      "text/html": [
       "<div>\n",
       "<style scoped>\n",
       "    .dataframe tbody tr th:only-of-type {\n",
       "        vertical-align: middle;\n",
       "    }\n",
       "\n",
       "    .dataframe tbody tr th {\n",
       "        vertical-align: top;\n",
       "    }\n",
       "\n",
       "    .dataframe thead th {\n",
       "        text-align: right;\n",
       "    }\n",
       "</style>\n",
       "<table border=\"1\" class=\"dataframe\">\n",
       "  <thead>\n",
       "    <tr style=\"text-align: right;\">\n",
       "      <th></th>\n",
       "      <th>v1</th>\n",
       "      <th>v2</th>\n",
       "    </tr>\n",
       "  </thead>\n",
       "  <tbody>\n",
       "    <tr>\n",
       "      <th>0</th>\n",
       "      <td>ham</td>\n",
       "      <td>Go until jurong point, crazy.. Available only ...</td>\n",
       "    </tr>\n",
       "    <tr>\n",
       "      <th>1</th>\n",
       "      <td>ham</td>\n",
       "      <td>Ok lar... Joking wif u oni...</td>\n",
       "    </tr>\n",
       "    <tr>\n",
       "      <th>2</th>\n",
       "      <td>spam</td>\n",
       "      <td>Free entry in 2 a wkly comp to win FA Cup fina...</td>\n",
       "    </tr>\n",
       "    <tr>\n",
       "      <th>3</th>\n",
       "      <td>ham</td>\n",
       "      <td>U dun say so early hor... U c already then say...</td>\n",
       "    </tr>\n",
       "    <tr>\n",
       "      <th>4</th>\n",
       "      <td>ham</td>\n",
       "      <td>Nah I don't think he goes to usf, he lives aro...</td>\n",
       "    </tr>\n",
       "    <tr>\n",
       "      <th>...</th>\n",
       "      <td>...</td>\n",
       "      <td>...</td>\n",
       "    </tr>\n",
       "    <tr>\n",
       "      <th>5567</th>\n",
       "      <td>spam</td>\n",
       "      <td>This is the 2nd time we have tried 2 contact u...</td>\n",
       "    </tr>\n",
       "    <tr>\n",
       "      <th>5568</th>\n",
       "      <td>ham</td>\n",
       "      <td>Will Ì_ b going to esplanade fr home?</td>\n",
       "    </tr>\n",
       "    <tr>\n",
       "      <th>5569</th>\n",
       "      <td>ham</td>\n",
       "      <td>Pity, * was in mood for that. So...any other s...</td>\n",
       "    </tr>\n",
       "    <tr>\n",
       "      <th>5570</th>\n",
       "      <td>ham</td>\n",
       "      <td>The guy did some bitching but I acted like i'd...</td>\n",
       "    </tr>\n",
       "    <tr>\n",
       "      <th>5571</th>\n",
       "      <td>ham</td>\n",
       "      <td>Rofl. Its true to its name</td>\n",
       "    </tr>\n",
       "  </tbody>\n",
       "</table>\n",
       "<p>5572 rows × 2 columns</p>\n",
       "</div>"
      ],
      "text/plain": [
       "        v1                                                 v2\n",
       "0      ham  Go until jurong point, crazy.. Available only ...\n",
       "1      ham                      Ok lar... Joking wif u oni...\n",
       "2     spam  Free entry in 2 a wkly comp to win FA Cup fina...\n",
       "3      ham  U dun say so early hor... U c already then say...\n",
       "4      ham  Nah I don't think he goes to usf, he lives aro...\n",
       "...    ...                                                ...\n",
       "5567  spam  This is the 2nd time we have tried 2 contact u...\n",
       "5568   ham              Will Ì_ b going to esplanade fr home?\n",
       "5569   ham  Pity, * was in mood for that. So...any other s...\n",
       "5570   ham  The guy did some bitching but I acted like i'd...\n",
       "5571   ham                         Rofl. Its true to its name\n",
       "\n",
       "[5572 rows x 2 columns]"
      ]
     },
     "execution_count": 5,
     "metadata": {},
     "output_type": "execute_result"
    }
   ],
   "source": [
    "df = df.drop(df.columns[[2,3,4]],axis=1)\n",
    "df"
   ]
  },
  {
   "cell_type": "markdown",
   "id": "bb4b1e16",
   "metadata": {
    "papermill": {
     "duration": 0.016802,
     "end_time": "2022-01-03T22:11:25.565146",
     "exception": false,
     "start_time": "2022-01-03T22:11:25.548344",
     "status": "completed"
    },
    "tags": []
   },
   "source": [
    "# Rename columns"
   ]
  },
  {
   "cell_type": "code",
   "execution_count": 6,
   "id": "176b23d3",
   "metadata": {
    "execution": {
     "iopub.execute_input": "2022-01-03T22:11:25.603313Z",
     "iopub.status.busy": "2022-01-03T22:11:25.602367Z",
     "iopub.status.idle": "2022-01-03T22:11:25.614691Z",
     "shell.execute_reply": "2022-01-03T22:11:25.615160Z",
     "shell.execute_reply.started": "2022-01-03T22:01:45.966863Z"
    },
    "papermill": {
     "duration": 0.033031,
     "end_time": "2022-01-03T22:11:25.615331",
     "exception": false,
     "start_time": "2022-01-03T22:11:25.582300",
     "status": "completed"
    },
    "tags": []
   },
   "outputs": [
    {
     "data": {
      "text/html": [
       "<div>\n",
       "<style scoped>\n",
       "    .dataframe tbody tr th:only-of-type {\n",
       "        vertical-align: middle;\n",
       "    }\n",
       "\n",
       "    .dataframe tbody tr th {\n",
       "        vertical-align: top;\n",
       "    }\n",
       "\n",
       "    .dataframe thead th {\n",
       "        text-align: right;\n",
       "    }\n",
       "</style>\n",
       "<table border=\"1\" class=\"dataframe\">\n",
       "  <thead>\n",
       "    <tr style=\"text-align: right;\">\n",
       "      <th></th>\n",
       "      <th>label</th>\n",
       "      <th>message</th>\n",
       "    </tr>\n",
       "  </thead>\n",
       "  <tbody>\n",
       "    <tr>\n",
       "      <th>0</th>\n",
       "      <td>ham</td>\n",
       "      <td>Go until jurong point, crazy.. Available only ...</td>\n",
       "    </tr>\n",
       "    <tr>\n",
       "      <th>1</th>\n",
       "      <td>ham</td>\n",
       "      <td>Ok lar... Joking wif u oni...</td>\n",
       "    </tr>\n",
       "    <tr>\n",
       "      <th>2</th>\n",
       "      <td>spam</td>\n",
       "      <td>Free entry in 2 a wkly comp to win FA Cup fina...</td>\n",
       "    </tr>\n",
       "    <tr>\n",
       "      <th>3</th>\n",
       "      <td>ham</td>\n",
       "      <td>U dun say so early hor... U c already then say...</td>\n",
       "    </tr>\n",
       "    <tr>\n",
       "      <th>4</th>\n",
       "      <td>ham</td>\n",
       "      <td>Nah I don't think he goes to usf, he lives aro...</td>\n",
       "    </tr>\n",
       "    <tr>\n",
       "      <th>...</th>\n",
       "      <td>...</td>\n",
       "      <td>...</td>\n",
       "    </tr>\n",
       "    <tr>\n",
       "      <th>5567</th>\n",
       "      <td>spam</td>\n",
       "      <td>This is the 2nd time we have tried 2 contact u...</td>\n",
       "    </tr>\n",
       "    <tr>\n",
       "      <th>5568</th>\n",
       "      <td>ham</td>\n",
       "      <td>Will Ì_ b going to esplanade fr home?</td>\n",
       "    </tr>\n",
       "    <tr>\n",
       "      <th>5569</th>\n",
       "      <td>ham</td>\n",
       "      <td>Pity, * was in mood for that. So...any other s...</td>\n",
       "    </tr>\n",
       "    <tr>\n",
       "      <th>5570</th>\n",
       "      <td>ham</td>\n",
       "      <td>The guy did some bitching but I acted like i'd...</td>\n",
       "    </tr>\n",
       "    <tr>\n",
       "      <th>5571</th>\n",
       "      <td>ham</td>\n",
       "      <td>Rofl. Its true to its name</td>\n",
       "    </tr>\n",
       "  </tbody>\n",
       "</table>\n",
       "<p>5572 rows × 2 columns</p>\n",
       "</div>"
      ],
      "text/plain": [
       "     label                                            message\n",
       "0      ham  Go until jurong point, crazy.. Available only ...\n",
       "1      ham                      Ok lar... Joking wif u oni...\n",
       "2     spam  Free entry in 2 a wkly comp to win FA Cup fina...\n",
       "3      ham  U dun say so early hor... U c already then say...\n",
       "4      ham  Nah I don't think he goes to usf, he lives aro...\n",
       "...    ...                                                ...\n",
       "5567  spam  This is the 2nd time we have tried 2 contact u...\n",
       "5568   ham              Will Ì_ b going to esplanade fr home?\n",
       "5569   ham  Pity, * was in mood for that. So...any other s...\n",
       "5570   ham  The guy did some bitching but I acted like i'd...\n",
       "5571   ham                         Rofl. Its true to its name\n",
       "\n",
       "[5572 rows x 2 columns]"
      ]
     },
     "execution_count": 6,
     "metadata": {},
     "output_type": "execute_result"
    }
   ],
   "source": [
    "df.columns = ['label','message']\n",
    "df"
   ]
  },
  {
   "cell_type": "code",
   "execution_count": 7,
   "id": "e33cca0e",
   "metadata": {
    "execution": {
     "iopub.execute_input": "2022-01-03T22:11:25.654192Z",
     "iopub.status.busy": "2022-01-03T22:11:25.653253Z",
     "iopub.status.idle": "2022-01-03T22:11:25.684689Z",
     "shell.execute_reply": "2022-01-03T22:11:25.685172Z",
     "shell.execute_reply.started": "2022-01-03T22:01:46.159588Z"
    },
    "papermill": {
     "duration": 0.052541,
     "end_time": "2022-01-03T22:11:25.685344",
     "exception": false,
     "start_time": "2022-01-03T22:11:25.632803",
     "status": "completed"
    },
    "tags": []
   },
   "outputs": [
    {
     "name": "stdout",
     "output_type": "stream",
     "text": [
      "<class 'pandas.core.frame.DataFrame'>\n",
      "RangeIndex: 5572 entries, 0 to 5571\n",
      "Data columns (total 2 columns):\n",
      " #   Column   Non-Null Count  Dtype \n",
      "---  ------   --------------  ----- \n",
      " 0   label    5572 non-null   object\n",
      " 1   message  5572 non-null   object\n",
      "dtypes: object(2)\n",
      "memory usage: 87.2+ KB\n"
     ]
    },
    {
     "data": {
      "text/html": [
       "<div>\n",
       "<style scoped>\n",
       "    .dataframe tbody tr th:only-of-type {\n",
       "        vertical-align: middle;\n",
       "    }\n",
       "\n",
       "    .dataframe tbody tr th {\n",
       "        vertical-align: top;\n",
       "    }\n",
       "\n",
       "    .dataframe thead th {\n",
       "        text-align: right;\n",
       "    }\n",
       "</style>\n",
       "<table border=\"1\" class=\"dataframe\">\n",
       "  <thead>\n",
       "    <tr style=\"text-align: right;\">\n",
       "      <th></th>\n",
       "      <th>label</th>\n",
       "      <th>message</th>\n",
       "    </tr>\n",
       "  </thead>\n",
       "  <tbody>\n",
       "    <tr>\n",
       "      <th>count</th>\n",
       "      <td>5572</td>\n",
       "      <td>5572</td>\n",
       "    </tr>\n",
       "    <tr>\n",
       "      <th>unique</th>\n",
       "      <td>2</td>\n",
       "      <td>5169</td>\n",
       "    </tr>\n",
       "    <tr>\n",
       "      <th>top</th>\n",
       "      <td>ham</td>\n",
       "      <td>Sorry, I'll call later</td>\n",
       "    </tr>\n",
       "    <tr>\n",
       "      <th>freq</th>\n",
       "      <td>4825</td>\n",
       "      <td>30</td>\n",
       "    </tr>\n",
       "  </tbody>\n",
       "</table>\n",
       "</div>"
      ],
      "text/plain": [
       "       label                 message\n",
       "count   5572                    5572\n",
       "unique     2                    5169\n",
       "top      ham  Sorry, I'll call later\n",
       "freq    4825                      30"
      ]
     },
     "execution_count": 7,
     "metadata": {},
     "output_type": "execute_result"
    }
   ],
   "source": [
    "df.info()\n",
    "df.describe()"
   ]
  },
  {
   "cell_type": "markdown",
   "id": "6fcd091f",
   "metadata": {
    "papermill": {
     "duration": 0.018253,
     "end_time": "2022-01-03T22:11:25.722090",
     "exception": false,
     "start_time": "2022-01-03T22:11:25.703837",
     "status": "completed"
    },
    "tags": []
   },
   "source": [
    "# Splitting X and y "
   ]
  },
  {
   "cell_type": "code",
   "execution_count": 8,
   "id": "2dbf9912",
   "metadata": {
    "execution": {
     "iopub.execute_input": "2022-01-03T22:11:25.764637Z",
     "iopub.status.busy": "2022-01-03T22:11:25.763631Z",
     "iopub.status.idle": "2022-01-03T22:11:25.766465Z",
     "shell.execute_reply": "2022-01-03T22:11:25.765988Z",
     "shell.execute_reply.started": "2022-01-03T22:01:46.550057Z"
    },
    "papermill": {
     "duration": 0.025814,
     "end_time": "2022-01-03T22:11:25.766621",
     "exception": false,
     "start_time": "2022-01-03T22:11:25.740807",
     "status": "completed"
    },
    "tags": []
   },
   "outputs": [],
   "source": [
    "X = df['message']\n",
    "y = df['label']"
   ]
  },
  {
   "cell_type": "markdown",
   "id": "02d8d229",
   "metadata": {
    "papermill": {
     "duration": 0.01837,
     "end_time": "2022-01-03T22:11:25.803487",
     "exception": false,
     "start_time": "2022-01-03T22:11:25.785117",
     "status": "completed"
    },
    "tags": []
   },
   "source": [
    "# Splitting X_train,X_test,y_train,y_test"
   ]
  },
  {
   "cell_type": "code",
   "execution_count": 9,
   "id": "d9bb55eb",
   "metadata": {
    "execution": {
     "iopub.execute_input": "2022-01-03T22:11:25.847543Z",
     "iopub.status.busy": "2022-01-03T22:11:25.846916Z",
     "iopub.status.idle": "2022-01-03T22:11:25.850214Z",
     "shell.execute_reply": "2022-01-03T22:11:25.850690Z",
     "shell.execute_reply.started": "2022-01-03T22:01:46.926342Z"
    },
    "papermill": {
     "duration": 0.02875,
     "end_time": "2022-01-03T22:11:25.850871",
     "exception": false,
     "start_time": "2022-01-03T22:11:25.822121",
     "status": "completed"
    },
    "tags": []
   },
   "outputs": [],
   "source": [
    "X_train,X_test,y_train,y_test = train_test_split(X,y,test_size=0.2,random_state = 0)"
   ]
  },
  {
   "cell_type": "markdown",
   "id": "fe3f5439",
   "metadata": {
    "papermill": {
     "duration": 0.018226,
     "end_time": "2022-01-03T22:11:25.887599",
     "exception": false,
     "start_time": "2022-01-03T22:11:25.869373",
     "status": "completed"
    },
    "tags": []
   },
   "source": [
    "# Converting a collection of text documents to a matrix of token counts to make data able to train with ml model"
   ]
  },
  {
   "cell_type": "code",
   "execution_count": 10,
   "id": "09a10668",
   "metadata": {
    "execution": {
     "iopub.execute_input": "2022-01-03T22:11:25.928317Z",
     "iopub.status.busy": "2022-01-03T22:11:25.927349Z",
     "iopub.status.idle": "2022-01-03T22:11:26.076779Z",
     "shell.execute_reply": "2022-01-03T22:11:26.076168Z",
     "shell.execute_reply.started": "2022-01-03T22:01:47.345312Z"
    },
    "papermill": {
     "duration": 0.170909,
     "end_time": "2022-01-03T22:11:26.076928",
     "exception": false,
     "start_time": "2022-01-03T22:11:25.906019",
     "status": "completed"
    },
    "tags": []
   },
   "outputs": [],
   "source": [
    "cv = CountVectorizer()\n",
    "X_train = cv.fit_transform(X_train)\n",
    "X_test = cv.transform(X_test)\n"
   ]
  },
  {
   "cell_type": "markdown",
   "id": "a8a3c04d",
   "metadata": {
    "papermill": {
     "duration": 0.01811,
     "end_time": "2022-01-03T22:11:26.113655",
     "exception": false,
     "start_time": "2022-01-03T22:11:26.095545",
     "status": "completed"
    },
    "tags": []
   },
   "source": [
    "# Train the model (with svm)"
   ]
  },
  {
   "cell_type": "code",
   "execution_count": 11,
   "id": "2304e6e3",
   "metadata": {
    "execution": {
     "iopub.execute_input": "2022-01-03T22:11:26.154235Z",
     "iopub.status.busy": "2022-01-03T22:11:26.153274Z",
     "iopub.status.idle": "2022-01-03T22:11:27.709414Z",
     "shell.execute_reply": "2022-01-03T22:11:27.710216Z",
     "shell.execute_reply.started": "2022-01-03T22:01:47.760705Z"
    },
    "papermill": {
     "duration": 1.578441,
     "end_time": "2022-01-03T22:11:27.710502",
     "exception": false,
     "start_time": "2022-01-03T22:11:26.132061",
     "status": "completed"
    },
    "tags": []
   },
   "outputs": [
    {
     "name": "stdout",
     "output_type": "stream",
     "text": [
      "model fitted with accuracy 97.67%\n"
     ]
    }
   ],
   "source": [
    "model = SVC(kernel = 'rbf', random_state = 10)\n",
    "model.fit(X_train,y_train)\n",
    "print(f'model fitted with accuracy {round((model.score(X_test,y_test))*100,2)}%')#for printing the accuracy"
   ]
  },
  {
   "cell_type": "markdown",
   "id": "edfb0dd0",
   "metadata": {
    "papermill": {
     "duration": 0.019168,
     "end_time": "2022-01-03T22:11:27.750470",
     "exception": false,
     "start_time": "2022-01-03T22:11:27.731302",
     "status": "completed"
    },
    "tags": []
   },
   "source": [
    "# Function for predicting new input"
   ]
  },
  {
   "cell_type": "code",
   "execution_count": 12,
   "id": "e559cf5b",
   "metadata": {
    "execution": {
     "iopub.execute_input": "2022-01-03T22:11:27.797497Z",
     "iopub.status.busy": "2022-01-03T22:11:27.796779Z",
     "iopub.status.idle": "2022-01-03T22:11:27.801886Z",
     "shell.execute_reply": "2022-01-03T22:11:27.802398Z",
     "shell.execute_reply.started": "2022-01-03T22:01:49.393993Z"
    },
    "papermill": {
     "duration": 0.032757,
     "end_time": "2022-01-03T22:11:27.802594",
     "exception": false,
     "start_time": "2022-01-03T22:11:27.769837",
     "status": "completed"
    },
    "tags": []
   },
   "outputs": [
    {
     "name": "stdout",
     "output_type": "stream",
     "text": [
      "ham\n",
      "spam\n"
     ]
    }
   ],
   "source": [
    "def predict(x):\n",
    "    val = model.predict(cv.transform([x]))\n",
    "    return ''.join(val)\n",
    "# testing the model\n",
    "print(predict('i love it ')) #this is ham\n",
    "print(predict('complimentary 4 STAR Ibiza Holiday or Â£10,000 cash needs your URGENT collection. 09066364349 NOW from Landline not to lose out! Box434SK38WP150PPM18+')) #this is spam"
   ]
  }
 ],
 "metadata": {
  "kernelspec": {
   "display_name": "Python 3 (ipykernel)",
   "language": "python",
   "name": "python3"
  },
  "language_info": {
   "codemirror_mode": {
    "name": "ipython",
    "version": 3
   },
   "file_extension": ".py",
   "mimetype": "text/x-python",
   "name": "python",
   "nbconvert_exporter": "python",
   "pygments_lexer": "ipython3",
   "version": "3.8.12"
  },
  "papermill": {
   "default_parameters": {},
   "duration": 15.070948,
   "end_time": "2022-01-03T22:11:28.813562",
   "environment_variables": {},
   "exception": null,
   "input_path": "__notebook__.ipynb",
   "output_path": "__notebook__.ipynb",
   "parameters": {},
   "start_time": "2022-01-03T22:11:13.742614",
   "version": "2.3.3"
  }
 },
 "nbformat": 4,
 "nbformat_minor": 5
}
