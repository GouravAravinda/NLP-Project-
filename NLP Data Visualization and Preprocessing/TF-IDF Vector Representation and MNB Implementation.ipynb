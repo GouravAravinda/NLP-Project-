{
 "cells": [
  {
   "cell_type": "markdown",
   "id": "8b6a1a4f",
   "metadata": {},
   "source": [
    "# Importing the Dataset and required modules"
   ]
  },
  {
   "cell_type": "code",
   "execution_count": 1,
   "id": "d31b79ef",
   "metadata": {
    "execution": {
     "iopub.execute_input": "2022-03-02T09:20:26.309925Z",
     "iopub.status.busy": "2022-03-02T09:20:26.308903Z",
     "iopub.status.idle": "2022-03-02T09:20:26.373620Z",
     "shell.execute_reply": "2022-03-02T09:20:26.373053Z",
     "shell.execute_reply.started": "2022-03-02T08:05:50.858921Z"
    },
    "papermill": {
     "duration": 0.083865,
     "end_time": "2022-03-02T09:20:26.373758",
     "exception": false,
     "start_time": "2022-03-02T09:20:26.289893",
     "status": "completed"
    },
    "tags": []
   },
   "outputs": [
    {
     "data": {
      "text/html": [
       "<div>\n",
       "<style scoped>\n",
       "    .dataframe tbody tr th:only-of-type {\n",
       "        vertical-align: middle;\n",
       "    }\n",
       "\n",
       "    .dataframe tbody tr th {\n",
       "        vertical-align: top;\n",
       "    }\n",
       "\n",
       "    .dataframe thead th {\n",
       "        text-align: right;\n",
       "    }\n",
       "</style>\n",
       "<table border=\"1\" class=\"dataframe\">\n",
       "  <thead>\n",
       "    <tr style=\"text-align: right;\">\n",
       "      <th></th>\n",
       "      <th>target</th>\n",
       "      <th>messages</th>\n",
       "    </tr>\n",
       "  </thead>\n",
       "  <tbody>\n",
       "    <tr>\n",
       "      <th>0</th>\n",
       "      <td>ham</td>\n",
       "      <td>Go until jurong point, crazy.. Available only ...</td>\n",
       "    </tr>\n",
       "    <tr>\n",
       "      <th>1</th>\n",
       "      <td>ham</td>\n",
       "      <td>Ok lar... Joking wif u oni...</td>\n",
       "    </tr>\n",
       "    <tr>\n",
       "      <th>2</th>\n",
       "      <td>spam</td>\n",
       "      <td>Free entry in 2 a wkly comp to win FA Cup fina...</td>\n",
       "    </tr>\n",
       "    <tr>\n",
       "      <th>3</th>\n",
       "      <td>ham</td>\n",
       "      <td>U dun say so early hor... U c already then say...</td>\n",
       "    </tr>\n",
       "    <tr>\n",
       "      <th>4</th>\n",
       "      <td>ham</td>\n",
       "      <td>Nah I don't think he goes to usf, he lives aro...</td>\n",
       "    </tr>\n",
       "  </tbody>\n",
       "</table>\n",
       "</div>"
      ],
      "text/plain": [
       "  target                                           messages\n",
       "0    ham  Go until jurong point, crazy.. Available only ...\n",
       "1    ham                      Ok lar... Joking wif u oni...\n",
       "2   spam  Free entry in 2 a wkly comp to win FA Cup fina...\n",
       "3    ham  U dun say so early hor... U c already then say...\n",
       "4    ham  Nah I don't think he goes to usf, he lives aro..."
      ]
     },
     "execution_count": 1,
     "metadata": {},
     "output_type": "execute_result"
    }
   ],
   "source": [
    "import pandas as pd\n",
    "import numpy as np\n",
    "import matplotlib.pyplot as plt\n",
    "df = pd.read_csv(\"spam.csv\", encoding = 'latin-1')\n",
    "df.drop(df.columns[[2,3,4]], axis = 1, inplace = True)\n",
    "df.columns = ['target','messages']\n",
    "df.head()"
   ]
  },
  {
   "cell_type": "markdown",
   "id": "c7f2d1ad",
   "metadata": {},
   "source": [
    "# Data Preprocessing "
   ]
  },
  {
   "cell_type": "code",
   "execution_count": 2,
   "id": "4afa0715",
   "metadata": {
    "execution": {
     "iopub.execute_input": "2022-03-02T09:20:26.412532Z",
     "iopub.status.busy": "2022-03-02T09:20:26.411497Z",
     "iopub.status.idle": "2022-03-02T09:20:28.189557Z",
     "shell.execute_reply": "2022-03-02T09:20:28.188997Z",
     "shell.execute_reply.started": "2022-03-02T08:10:19.151794Z"
    },
    "papermill": {
     "duration": 1.797702,
     "end_time": "2022-03-02T09:20:28.189725",
     "exception": false,
     "start_time": "2022-03-02T09:20:26.392023",
     "status": "completed"
    },
    "tags": []
   },
   "outputs": [],
   "source": [
    "import re\n",
    "from nltk.corpus import stopwords\n",
    "from nltk.stem import WordNetLemmatizer\n",
    "wordnet = WordNetLemmatizer()\n",
    "final = []\n",
    "for i in range(len(df)):\n",
    "    new = re.sub('[^a-zA-Z]',' ',df['messages'][i])\n",
    "    new = new.lower()\n",
    "    new = new.split()\n",
    "    new = [wordnet.lemmatize(word) for word in new if not word in stopwords.words('english')] # List Comprehension\n",
    "    new = ' '.join(new)\n",
    "    final.append(new)"
   ]
  },
  {
   "cell_type": "markdown",
   "id": "d5944b08",
   "metadata": {},
   "source": [
    "# Creating the TF-IDF model"
   ]
  },
  {
   "cell_type": "code",
   "execution_count": 3,
   "id": "c0687925",
   "metadata": {
    "execution": {
     "iopub.execute_input": "2022-03-02T09:20:42.656526Z",
     "iopub.status.busy": "2022-03-02T09:20:42.655816Z",
     "iopub.status.idle": "2022-03-02T09:20:42.892022Z",
     "shell.execute_reply": "2022-03-02T09:20:42.891343Z",
     "shell.execute_reply.started": "2022-03-02T08:06:13.389416Z"
    },
    "papermill": {
     "duration": 0.267209,
     "end_time": "2022-03-02T09:20:42.892164",
     "exception": false,
     "start_time": "2022-03-02T09:20:42.624955",
     "status": "completed"
    },
    "tags": []
   },
   "outputs": [],
   "source": [
    "from sklearn.feature_extraction.text import TfidfVectorizer\n",
    "tfidf = TfidfVectorizer(max_features=5000) # take only top 5000 words\n",
    "x = tfidf.fit_transform(final).toarray()\n",
    "x.shape\n",
    "y = pd.get_dummies(df['target'], drop_first = True)"
   ]
  },
  {
   "cell_type": "markdown",
   "id": "c4954502",
   "metadata": {},
   "source": [
    "# Performing Train-Test Split"
   ]
  },
  {
   "cell_type": "code",
   "execution_count": 4,
   "id": "2be1d0ad",
   "metadata": {
    "execution": {
     "iopub.execute_input": "2022-03-02T09:20:43.025349Z",
     "iopub.status.busy": "2022-03-02T09:20:43.024543Z",
     "iopub.status.idle": "2022-03-02T09:20:43.135186Z",
     "shell.execute_reply": "2022-03-02T09:20:43.134355Z",
     "shell.execute_reply.started": "2022-03-02T08:06:44.134007Z"
    },
    "papermill": {
     "duration": 0.135987,
     "end_time": "2022-03-02T09:20:43.135344",
     "exception": false,
     "start_time": "2022-03-02T09:20:42.999357",
     "status": "completed"
    },
    "tags": []
   },
   "outputs": [],
   "source": [
    "from sklearn.model_selection import train_test_split\n",
    "x_train, x_test,y_train,y_test = train_test_split(x,y,test_size = 0.2 , random_state = 2022)"
   ]
  },
  {
   "cell_type": "markdown",
   "id": "3ebb3e18",
   "metadata": {},
   "source": [
    "# Creating the MNB classifier"
   ]
  },
  {
   "cell_type": "code",
   "execution_count": 5,
   "id": "7ef7b835",
   "metadata": {
    "execution": {
     "iopub.execute_input": "2022-03-02T09:20:43.177228Z",
     "iopub.status.busy": "2022-03-02T09:20:43.176467Z",
     "iopub.status.idle": "2022-03-02T09:20:43.253536Z",
     "shell.execute_reply": "2022-03-02T09:20:43.254424Z",
     "shell.execute_reply.started": "2022-03-02T08:06:46.034187Z"
    },
    "papermill": {
     "duration": 0.10054,
     "end_time": "2022-03-02T09:20:43.254704",
     "exception": false,
     "start_time": "2022-03-02T09:20:43.154164",
     "status": "completed"
    },
    "tags": []
   },
   "outputs": [
    {
     "name": "stderr",
     "output_type": "stream",
     "text": [
      "C:\\Users\\goura\\anaconda3\\lib\\site-packages\\sklearn\\utils\\validation.py:993: DataConversionWarning: A column-vector y was passed when a 1d array was expected. Please change the shape of y to (n_samples, ), for example using ravel().\n",
      "  y = column_or_1d(y, warn=True)\n"
     ]
    }
   ],
   "source": [
    "from sklearn.naive_bayes import MultinomialNB\n",
    "spam_detection = MultinomialNB().fit(x_train,y_train)\n",
    "y_pred = spam_detection.predict(x_test)"
   ]
  },
  {
   "cell_type": "markdown",
   "id": "a7f6aefe",
   "metadata": {},
   "source": [
    "# Confusion Matrix"
   ]
  },
  {
   "cell_type": "code",
   "execution_count": 6,
   "id": "96ab83f0",
   "metadata": {
    "execution": {
     "iopub.execute_input": "2022-03-02T09:20:43.479015Z",
     "iopub.status.busy": "2022-03-02T09:20:43.478213Z",
     "iopub.status.idle": "2022-03-02T09:20:43.680321Z",
     "shell.execute_reply": "2022-03-02T09:20:43.680854Z",
     "shell.execute_reply.started": "2022-03-02T08:09:01.461121Z"
    },
    "papermill": {
     "duration": 0.230991,
     "end_time": "2022-03-02T09:20:43.681063",
     "exception": false,
     "start_time": "2022-03-02T09:20:43.450072",
     "status": "completed"
    },
    "tags": []
   },
   "outputs": [
    {
     "data": {
      "image/png": "[encoded data removed]",
      "text/plain": [
       "<Figure size 540x540 with 1 Axes>"
      ]
     },
     "metadata": {
      "needs_background": "light"
     },
     "output_type": "display_data"
    }
   ],
   "source": [
    "from sklearn.metrics import confusion_matrix\n",
    "confusion = confusion_matrix(y_test,y_pred)\n",
    "fig, ax = plt.subplots(figsize=(7.5, 7.5))\n",
    "ax.matshow(confusion, cmap=plt.cm.Blues, alpha=0.3)\n",
    "for i in range(confusion.shape[0]):\n",
    "    for j in range(confusion.shape[1]):\n",
    "        ax.text(x=j, y=i,s=confusion[i, j], va='center', ha='center', size='xx-large')\n",
    " \n",
    "plt.xlabel('Predictions', fontsize=18)\n",
    "plt.ylabel('Actuals', fontsize=18)\n",
    "plt.title('Confusion Matrix', fontsize=18)\n",
    "plt.show()"
   ]
  },
  {
   "cell_type": "markdown",
   "id": "46b2f8ce",
   "metadata": {},
   "source": [
    "# Accuracy  "
   ]
  },
  {
   "cell_type": "code",
   "execution_count": 14,
   "id": "05ac17dd",
   "metadata": {
    "execution": {
     "iopub.execute_input": "2022-03-02T09:20:43.723914Z",
     "iopub.status.busy": "2022-03-02T09:20:43.722803Z",
     "iopub.status.idle": "2022-03-02T09:20:43.729161Z",
     "shell.execute_reply": "2022-03-02T09:20:43.729715Z",
     "shell.execute_reply.started": "2022-03-02T08:07:28.359175Z"
    },
    "papermill": {
     "duration": 0.02904,
     "end_time": "2022-03-02T09:20:43.729900",
     "exception": false,
     "start_time": "2022-03-02T09:20:43.700860",
     "status": "completed"
    },
    "tags": []
   },
   "outputs": [
    {
     "name": "stdout",
     "output_type": "stream",
     "text": [
      "The accuracy score is 0.9739910313901345\n"
     ]
    }
   ],
   "source": [
    "from sklearn.metrics import accuracy_score\n",
    "accuracy = accuracy_score(y_test, y_pred)\n",
    "print(\"The accuracy score is {}\".format(accuracy))"
   ]
  }
 ],
 "metadata": {
  "kernelspec": {
   "display_name": "Python 3 (ipykernel)",
   "language": "python",
   "name": "python3"
  },
  "language_info": {
   "codemirror_mode": {
    "name": "ipython",
    "version": 3
   },
   "file_extension": ".py",
   "mimetype": "text/x-python",
   "name": "python",
   "nbconvert_exporter": "python",
   "pygments_lexer": "ipython3",
   "version": "3.8.12"
  },
  "papermill": {
   "default_parameters": {},
   "duration": 29.372494,
   "end_time": "2022-03-02T09:20:44.839384",
   "environment_variables": {},
   "exception": null,
   "input_path": "__notebook__.ipynb",
   "output_path": "__notebook__.ipynb",
   "parameters": {},
   "start_time": "2022-03-02T09:20:15.466890",
   "version": "2.3.3"
  }
 },
 "nbformat": 4,
 "nbformat_minor": 5
}
